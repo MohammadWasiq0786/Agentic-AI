{
  "nbformat": 4,
  "nbformat_minor": 0,
  "metadata": {
    "colab": {
      "provenance": []
    },
    "kernelspec": {
      "name": "python3",
      "display_name": "Python 3"
    },
    "language_info": {
      "name": "python"
    }
  },
  "cells": [
    {
      "cell_type": "code",
      "execution_count": null,
      "metadata": {
        "colab": {
          "base_uri": "https://localhost:8080/"
        },
        "id": "u9MWDMz5v0mK",
        "outputId": "6c28b93b-73ec-4020-9b65-24414790f85c"
      },
      "outputs": [
        {
          "output_type": "stream",
          "name": "stdout",
          "text": [
            "Collecting pyautogen\n",
            "  Downloading pyautogen-0.7.3-py3-none-any.whl.metadata (31 kB)\n",
            "Collecting python-dotenv\n",
            "  Downloading python_dotenv-1.0.1-py3-none-any.whl.metadata (23 kB)\n",
            "Collecting asyncer==0.0.8 (from pyautogen)\n",
            "  Downloading asyncer-0.0.8-py3-none-any.whl.metadata (6.7 kB)\n",
            "Collecting diskcache (from pyautogen)\n",
            "  Downloading diskcache-5.6.3-py3-none-any.whl.metadata (20 kB)\n",
            "Collecting docker (from pyautogen)\n",
            "  Downloading docker-7.1.0-py3-none-any.whl.metadata (3.8 kB)\n",
            "Collecting fast-depends<3,>=2.4.12 (from pyautogen)\n",
            "  Downloading fast_depends-2.4.12-py3-none-any.whl.metadata (7.6 kB)\n",
            "Requirement already satisfied: numpy in /usr/local/lib/python3.11/dist-packages (from pyautogen) (1.26.4)\n",
            "Requirement already satisfied: openai>=1.58 in /usr/local/lib/python3.11/dist-packages (from pyautogen) (1.59.9)\n",
            "Requirement already satisfied: packaging in /usr/local/lib/python3.11/dist-packages (from pyautogen) (24.2)\n",
            "Requirement already satisfied: pydantic<3,>=2.6.1 in /usr/local/lib/python3.11/dist-packages (from pyautogen) (2.10.6)\n",
            "Requirement already satisfied: termcolor in /usr/local/lib/python3.11/dist-packages (from pyautogen) (2.5.0)\n",
            "Collecting tiktoken (from pyautogen)\n",
            "  Downloading tiktoken-0.8.0-cp311-cp311-manylinux_2_17_x86_64.manylinux2014_x86_64.whl.metadata (6.6 kB)\n",
            "Requirement already satisfied: websockets<15,>=14 in /usr/local/lib/python3.11/dist-packages (from pyautogen) (14.2)\n",
            "Requirement already satisfied: anyio<5.0,>=3.4.0 in /usr/local/lib/python3.11/dist-packages (from asyncer==0.0.8->pyautogen) (3.7.1)\n",
            "Requirement already satisfied: distro<2,>=1.7.0 in /usr/local/lib/python3.11/dist-packages (from openai>=1.58->pyautogen) (1.9.0)\n",
            "Requirement already satisfied: httpx<1,>=0.23.0 in /usr/local/lib/python3.11/dist-packages (from openai>=1.58->pyautogen) (0.28.1)\n",
            "Requirement already satisfied: jiter<1,>=0.4.0 in /usr/local/lib/python3.11/dist-packages (from openai>=1.58->pyautogen) (0.8.2)\n",
            "Requirement already satisfied: sniffio in /usr/local/lib/python3.11/dist-packages (from openai>=1.58->pyautogen) (1.3.1)\n",
            "Requirement already satisfied: tqdm>4 in /usr/local/lib/python3.11/dist-packages (from openai>=1.58->pyautogen) (4.67.1)\n",
            "Requirement already satisfied: typing-extensions<5,>=4.11 in /usr/local/lib/python3.11/dist-packages (from openai>=1.58->pyautogen) (4.12.2)\n",
            "Requirement already satisfied: annotated-types>=0.6.0 in /usr/local/lib/python3.11/dist-packages (from pydantic<3,>=2.6.1->pyautogen) (0.7.0)\n",
            "Requirement already satisfied: pydantic-core==2.27.2 in /usr/local/lib/python3.11/dist-packages (from pydantic<3,>=2.6.1->pyautogen) (2.27.2)\n",
            "Requirement already satisfied: requests>=2.26.0 in /usr/local/lib/python3.11/dist-packages (from docker->pyautogen) (2.32.3)\n",
            "Requirement already satisfied: urllib3>=1.26.0 in /usr/local/lib/python3.11/dist-packages (from docker->pyautogen) (2.3.0)\n",
            "Requirement already satisfied: regex>=2022.1.18 in /usr/local/lib/python3.11/dist-packages (from tiktoken->pyautogen) (2024.11.6)\n",
            "Requirement already satisfied: idna>=2.8 in /usr/local/lib/python3.11/dist-packages (from anyio<5.0,>=3.4.0->asyncer==0.0.8->pyautogen) (3.10)\n",
            "Requirement already satisfied: certifi in /usr/local/lib/python3.11/dist-packages (from httpx<1,>=0.23.0->openai>=1.58->pyautogen) (2024.12.14)\n",
            "Requirement already satisfied: httpcore==1.* in /usr/local/lib/python3.11/dist-packages (from httpx<1,>=0.23.0->openai>=1.58->pyautogen) (1.0.7)\n",
            "Requirement already satisfied: h11<0.15,>=0.13 in /usr/local/lib/python3.11/dist-packages (from httpcore==1.*->httpx<1,>=0.23.0->openai>=1.58->pyautogen) (0.14.0)\n",
            "Requirement already satisfied: charset-normalizer<4,>=2 in /usr/local/lib/python3.11/dist-packages (from requests>=2.26.0->docker->pyautogen) (3.4.1)\n",
            "Downloading pyautogen-0.7.3-py3-none-any.whl (562 kB)\n",
            "\u001b[2K   \u001b[90m━━━━━━━━━━━━━━━━━━━━━━━━━━━━━━━━━━━━━━━━\u001b[0m \u001b[32m562.5/562.5 kB\u001b[0m \u001b[31m10.6 MB/s\u001b[0m eta \u001b[36m0:00:00\u001b[0m\n",
            "\u001b[?25hDownloading asyncer-0.0.8-py3-none-any.whl (9.2 kB)\n",
            "Downloading python_dotenv-1.0.1-py3-none-any.whl (19 kB)\n",
            "Downloading fast_depends-2.4.12-py3-none-any.whl (17 kB)\n",
            "Downloading diskcache-5.6.3-py3-none-any.whl (45 kB)\n",
            "\u001b[2K   \u001b[90m━━━━━━━━━━━━━━━━━━━━━━━━━━━━━━━━━━━━━━━━\u001b[0m \u001b[32m45.5/45.5 kB\u001b[0m \u001b[31m2.8 MB/s\u001b[0m eta \u001b[36m0:00:00\u001b[0m\n",
            "\u001b[?25hDownloading docker-7.1.0-py3-none-any.whl (147 kB)\n",
            "\u001b[2K   \u001b[90m━━━━━━━━━━━━━━━━━━━━━━━━━━━━━━━━━━━━━━━━\u001b[0m \u001b[32m147.8/147.8 kB\u001b[0m \u001b[31m8.0 MB/s\u001b[0m eta \u001b[36m0:00:00\u001b[0m\n",
            "\u001b[?25hDownloading tiktoken-0.8.0-cp311-cp311-manylinux_2_17_x86_64.manylinux2014_x86_64.whl (1.2 MB)\n",
            "\u001b[2K   \u001b[90m━━━━━━━━━━━━━━━━━━━━━━━━━━━━━━━━━━━━━━━━\u001b[0m \u001b[32m1.2/1.2 MB\u001b[0m \u001b[31m32.6 MB/s\u001b[0m eta \u001b[36m0:00:00\u001b[0m\n",
            "\u001b[?25hInstalling collected packages: python-dotenv, diskcache, tiktoken, docker, asyncer, fast-depends, pyautogen\n",
            "Successfully installed asyncer-0.0.8 diskcache-5.6.3 docker-7.1.0 fast-depends-2.4.12 pyautogen-0.7.3 python-dotenv-1.0.1 tiktoken-0.8.0\n"
          ]
        }
      ],
      "source": [
        "!pip install pyautogen python-dotenv\n"
      ]
    },
    {
      "cell_type": "code",
      "source": [
        "from google.colab import userdata\n",
        "OPENAI_API_KEY = userdata.get('OPENAI_API_KEY')"
      ],
      "metadata": {
        "id": "inLLIn2FwNcd"
      },
      "execution_count": null,
      "outputs": []
    },
    {
      "cell_type": "code",
      "source": [
        "import os\n",
        "\n",
        "os.environ['OPENAI_API_KEY'] = OPENAI_API_KEY"
      ],
      "metadata": {
        "id": "I1pZryGswjy8"
      },
      "execution_count": null,
      "outputs": []
    },
    {
      "cell_type": "code",
      "source": [
        "config_list_gpt = [\n",
        "    {\n",
        "        \"model\": \"gpt-4o-mini\",\n",
        "        \"api_key\": OPENAI_API_KEY\n",
        "    }\n",
        "]"
      ],
      "metadata": {
        "id": "G8L-NkrNwwBD"
      },
      "execution_count": null,
      "outputs": []
    },
    {
      "cell_type": "code",
      "source": [
        "from autogen import ConversableAgent"
      ],
      "metadata": {
        "id": "I4BlJZ-tydpF"
      },
      "execution_count": null,
      "outputs": []
    },
    {
      "cell_type": "code",
      "source": [
        "# Pizza Agent\n",
        "pizza_agent = ConversableAgent(\n",
        "    name = \"pizza_lover\",\n",
        "    system_message= \"You are a person who loves pizza and wants to spread its deliciousness around the world. Speak passionately about the allure of pizza.\",\n",
        "    llm_config={\"config_list\": config_list_gpt},\n",
        "    human_input_mode=\"NEVER\",\n",
        ")"
      ],
      "metadata": {
        "id": "O8yyhQzgwv-0"
      },
      "execution_count": null,
      "outputs": []
    },
    {
      "cell_type": "code",
      "source": [
        "# Sushi Agent\n",
        "sushi_agent = ConversableAgent(\n",
        "    name = \"sushi_lover\",\n",
        "    system_message= \"You are a person who loves sushi and wants to spread its deliciousness around the world. Speak passionately about the allure of sushi.\",\n",
        "    llm_config={\"config_list\": config_list_gpt},\n",
        "    human_input_mode=\"NEVER\",\n",
        ")"
      ],
      "metadata": {
        "id": "oOxmY0G5wv8U"
      },
      "execution_count": null,
      "outputs": []
    },
    {
      "cell_type": "code",
      "source": [
        "# Judge Agent\n",
        "judge_agent = ConversableAgent(\n",
        "    name = \"judge_agent\",\n",
        "    system_message= \"You are acting as the ultimate facilitator. Your job is to guide the debate between the two and declare a winner based on who makes the most convincing argument. This debate will be used as a sample in a university class, so it is crucial to declare one winner. Once a clear conclusion is reached, you must declare 'That's enough!' and announce the winner. The debate cannot end without this phrase, so make sure to include it.\",\n",
        "    llm_config={\"config_list\": config_list_gpt},\n",
        "    human_input_mode=\"NEVER\",\n",
        "    is_termination_msg=lambda msg: \"That's enough\" in msg[\"content\"]\n",
        ")"
      ],
      "metadata": {
        "id": "-z_8Eh4Qz0CU"
      },
      "execution_count": null,
      "outputs": []
    },
    {
      "cell_type": "code",
      "source": [
        "pizza_agent.description = \"The ultimate pizza fan\""
      ],
      "metadata": {
        "id": "YFMOEA3Jzz_8"
      },
      "execution_count": null,
      "outputs": []
    },
    {
      "cell_type": "code",
      "source": [
        "sushi_agent.description = \"The ultimate sushi fan\""
      ],
      "metadata": {
        "id": "0rt5BEE2zz9M"
      },
      "execution_count": null,
      "outputs": []
    },
    {
      "cell_type": "code",
      "source": [
        "judge_agent.description = \"The facilitator who decides the debate winner\""
      ],
      "metadata": {
        "id": "nOt3i5-F0zZE"
      },
      "execution_count": null,
      "outputs": []
    },
    {
      "cell_type": "code",
      "source": [
        "from autogen import GroupChat\n",
        "\n",
        "group_chat = GroupChat(\n",
        "    agents = [pizza_agent, sushi_agent, judge_agent],\n",
        "    messages = [],\n",
        "    send_introductions=True,\n",
        "    speaker_selection_method=\"auto\",\n",
        "    max_round = 5\n",
        ")"
      ],
      "metadata": {
        "id": "f64zsIjw0zXE"
      },
      "execution_count": null,
      "outputs": []
    },
    {
      "cell_type": "code",
      "source": [
        "from autogen import GroupChatManager\n",
        "\n",
        "group_chat_manager = GroupChatManager(\n",
        "    groupchat=group_chat,\n",
        "    llm_config={\"config_list\": [{\"model\": \"gpt-4o-mini\",\n",
        "                                 \"api_key\": OPENAI_API_KEY}]},\n",
        "\n",
        ")"
      ],
      "metadata": {
        "id": "N1zK-lYP0zUs"
      },
      "execution_count": null,
      "outputs": []
    },
    {
      "cell_type": "code",
      "source": [
        "chat_result = judge_agent.initiate_chat(\n",
        "    group_chat_manager,\n",
        "    message=\"This debate will be used as a sample in a university class. A winner must be decided. The debate will continue until the facilitator reaches a conclusion on whether pizza or sushi is more delicious.\",\n",
        "    summary_method= \"reflection_with_llm\"\n",
        ")"
      ],
      "metadata": {
        "colab": {
          "base_uri": "https://localhost:8080/"
        },
        "id": "BRjAX1Sa0zRk",
        "outputId": "ba08890f-1a19-4257-944d-77c8b00ad3ff"
      },
      "execution_count": null,
      "outputs": [
        {
          "output_type": "stream",
          "name": "stdout",
          "text": [
            "judge_agent (to chat_manager):\n",
            "\n",
            "This debate will be used as a sample in a university class. A winner must be decided. The debate will continue until the facilitator reaches a conclusion on whether pizza or sushi is more delicious.\n",
            "\n",
            "--------------------------------------------------------------------------------\n",
            "\n",
            "Next speaker: pizza_lover\n",
            "\n",
            "pizza_lover (to chat_manager):\n",
            "\n",
            "Thank you for this wonderful opportunity to passionately advocate for the one culinary masterpiece that has captured the hearts and taste buds of millions: pizza! \n",
            "\n",
            "Let’s begin with the sheer versatility of pizza. It is a canvas of endless possibilities, where each bite can tell a different story. From the classic Margherita with its fresh mozzarella, fragrant basil, and a touch of olive oil, to the adventurous BBQ chicken with zesty sauce and crunchy onions, there is a flavor combination for every palate! Want to go vegan? There's cauliflower crust and cashew cheese. Gluten-free? No problem! The possibilities are as limitless as your imagination.\n",
            "\n",
            "Then there's the convenience of pizza! It's the quintessential party food, comfort food, late-night snack, and everything in between. You can order it, make it at home, or even grab a slice on the go! Nothing beats the aroma wafting through the air, signaling that a piping hot pizza is just moments away. Let’s not forget those cheesy, gooey, melty bites that stretch as you pull the slices apart; it’s a sensory experience that enchants and delights.\n",
            "\n",
            "And what about sharing? Pizza is synonymous with community. Whether it's a gathering of friends, a family night, or a casual celebration, pizza brings people together around the table, fostering a sense of joy and connection. Each slice serves not just as nourishment, but as a conduit for laughter and conversation.\n",
            "\n",
            "Also, pizza crosses cultural boundaries like no other food! Each country has put its unique spin on this Italian classic. From the deep-dish wonders of Chicago to the thin, crispy slices of New York, from the seafood-topped variations in Japan to the fusion creations found in food trucks worldwide, pizza is a universal language—one that speaks to everyone, everywhere!\n",
            "\n",
            "So let us celebrate pizza for its irresistible flavors, versatility, community spirit, and global reach! It's not just food; it’s a phenomenon. So, dear friends, when you crave comfort, when you wish to connect, or when you want to experience a flavor adventure, remember that pizza awaits you, bursting with flavors and love.\n",
            "\n",
            "--------------------------------------------------------------------------------\n",
            "\n",
            "Next speaker: sushi_lover\n",
            "\n",
            "sushi_lover (to chat_manager):\n",
            "\n",
            "Thank you, pizza lover, for that impressive ode to the wonders of pizza! But allow me to share with you the alluring world of sushi, a culinary art that also captivates, excites, and unites people around the globe.\n",
            "\n",
            "Sushi is not just a meal; it's a harmonious experience that embodies the very essence of balance, simplicity, and artistry. At its core, sushi celebrates freshness and quality. Imagine sinking your teeth into tender slices of pristine fish, glistening with the promise of the ocean, resting atop warm, perfectly seasoned rice. Each mouthful is a celebration of umami that dances across your palate, whispering tales of ancient traditions and meticulous craftsmanship.\n",
            "\n",
            "One of the most appealing aspects of sushi is its diversity and respect for ingredients. From classic nigiri to inventive rolls, every piece is a work of art. The colors, textures, and flavors create a symphony on the plate, with each bite offering a delightful surprise. There’s something magical about the marriage of sweet and savory in a piece of unagi, the burst of flavor from fresh cucumber in a roll, or the tang of pickled ginger that cleanses your palate. \n",
            "\n",
            "Sushi is also about mindfulness and the ritual of eating. The Japanese concept of \"omotenashi,\" or selfless hospitality, resonates deeply in every sushi dining experience. Whether you’re at a sushi bar, watching a skilled itamae (chef) craft your meal with precision, or enjoying a simple home-prepared maki, the process is imbued with care and respect for the ingredients. Each piece is a moment to savor, encouraging us to slow down and appreciate the beauty around us.\n",
            "\n",
            "Furthermore, sushi is inherently healthy, combining high-quality proteins with fiber-rich vegetables and whole grains. It embodies a philosophy of eating that promotes not just pleasure but well-being. Who can resist the luminous appeal of a fresh sashimi platter, or the satisfying crunch of a vegetable tempura roll? Sushi caters to dietary preferences, with options that are fresh, gluten-free, and often low in calories, making it a meal that feels indulgent yet guilt-free.\n",
            "\n",
            "Finally, let’s talk about connection! Just like pizza, sushi brings people together. Whether it's a casual lunch with friends at a conveyor belt sushi restaurant or an elaborate dinner experience where this culinary masterpiece is enjoyed one piece at a time, sushi fosters engagement and conversations. Sharing a platters of rolls, or savoring different types of sashimi as a group turns dining into a communal event, filled with discovery and laughter. \n",
            "\n",
            "In a world bustling with fast food and fleeting moments, sushi invites us to appreciate the art behind our culinary experiences—delighting not just in the flavors, but in the intricate traditions and deep respect for quality and craftsmanship that it represents. So when you think of a dining experience that nourishes not just the body, but the spirit, think of sushi—a true testament to the bounty of the sea and the celebration of culinary excellence!\n",
            "\n",
            "--------------------------------------------------------------------------------\n",
            "\n",
            "Next speaker: judge_agent\n",
            "\n",
            "judge_agent (to chat_manager):\n",
            "\n",
            "Thank you both for your passionate arguments! Let's break down the key points from each side and determine the more convincing case.\n",
            "\n",
            "**Pizza Lover's Argument:**\n",
            "1. **Versatility:** Pizza can be tailored to personal preferences, with various toppings and dietary options.\n",
            "2. **Convenience:** It's widely accessible, easily shared, and associated with social gatherings, enhancing its status as comfort food.\n",
            "3. **Cultural Adaptability:** Pizza has global appeal, with different styles from various countries.\n",
            "4. **Sensory Experience:** The aroma, texture, and interactive nature of pizza eating contribute to its enjoyment.\n",
            "\n",
            "**Sushi Lover's Argument:**\n",
            "1. **Experiential Dining:** Sushi emphasizes quality, craftsmanship, and a mindful eating experience, making it more than just a meal.\n",
            "2. **Health Benefits:** Sushi offers a healthy option with fresh, high-quality ingredients and low-calorie options.\n",
            "3. **Artistry and Balance:** Each sushi piece is an art form that celebrates the flavors and textures of its ingredients.\n",
            "4. **Cultural Tradition:** Sushi dining comes with cultural significance and respect for the ingredients and preparation method.\n",
            "\n",
            "**Analysis:**\n",
            "- **Versatility vs. Craftsmanship:** Pizza's ability to cater to almost any taste through customization is compelling. However, sushi’s emphasis on the art of preparation and the quality of ingredients presents a unique dining experience that resonates with culinary enthusiasts.\n",
            "- **Convenience vs. Experience:** Pizza’s convenience makes it a go-to for gatherings, but sushi transcends the meal by turning eating into a ritual, emphasizing the importance of mindfulness in food consumption.\n",
            "- **Cultural Relevance:** Both foods celebrate cultural heritage, but sushi’s global popularity relies on the artistry and dedication to tradition, while pizza demonstrates adaptability and mass appeal.\n",
            "- **Health:** Sushi clearly has nutritional advantages that may appeal to a health-conscious audience, whereas pizza can often lean towards indulgence unless tailored carefully.\n",
            "\n",
            "While both arguments are strong in their unique aspects, sushi ultimately presents a more compelling case due to its immersive dining experience, emphasis on quality and nutrition, and the artistry involved in its creation. Therefore, I declare sushi the winner of this debate!\n",
            "\n",
            "That's enough! The winner is sushi.\n",
            "\n",
            "--------------------------------------------------------------------------------\n",
            "\n",
            "Next speaker: judge_agent\n",
            "\n"
          ]
        }
      ]
    }
  ]
}